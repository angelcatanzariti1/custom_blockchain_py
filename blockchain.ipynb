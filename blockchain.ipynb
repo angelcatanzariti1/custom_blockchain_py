{
  "nbformat": 4,
  "nbformat_minor": 0,
  "metadata": {
    "colab": {
      "name": "blockchain.ipynb",
      "provenance": [],
      "collapsed_sections": []
    },
    "kernelspec": {
      "name": "python3",
      "display_name": "Python 3"
    },
    "language_info": {
      "name": "python"
    }
  },
  "cells": [
    {
      "cell_type": "markdown",
      "metadata": {
        "id": "3c8EFe127W0U"
      },
      "source": [
        "## Custom blockchain built with Python\n",
        "\n",
        "**Ángel C.**\n"
      ]
    },
    {
      "cell_type": "markdown",
      "metadata": {
        "id": "oB1MtvWP_qNO"
      },
      "source": [
        "### Libraries required to build this blockchain \n",
        "\n",
        "* **datetime**\n",
        "\n",
        "* **hashlib**\n",
        "\n",
        "* **json**\n",
        "\n",
        "* **flask**\n",
        "\n",
        "* **flask-ngrok**"
      ]
    },
    {
      "cell_type": "markdown",
      "metadata": {
        "id": "zEMcysBgcfbv"
      },
      "source": [
        "## Installation"
      ]
    },
    {
      "cell_type": "code",
      "metadata": {
        "colab": {
          "base_uri": "https://localhost:8080/"
        },
        "id": "VHidChooWq-v",
        "outputId": "ac5efe31-f3d9-4283-8374-81b12bd05197"
      },
      "source": [
        "!pip install flask==0.12.2"
      ],
      "execution_count": 1,
      "outputs": [
        {
          "output_type": "stream",
          "name": "stdout",
          "text": [
            "Collecting flask==0.12.2\n",
            "  Downloading Flask-0.12.2-py2.py3-none-any.whl (83 kB)\n",
            "\u001b[?25l\r\u001b[K     |████                            | 10 kB 23.7 MB/s eta 0:00:01\r\u001b[K     |████████                        | 20 kB 21.6 MB/s eta 0:00:01\r\u001b[K     |███████████▉                    | 30 kB 11.4 MB/s eta 0:00:01\r\u001b[K     |███████████████▉                | 40 kB 9.1 MB/s eta 0:00:01\r\u001b[K     |███████████████████▊            | 51 kB 8.6 MB/s eta 0:00:01\r\u001b[K     |███████████████████████▊        | 61 kB 8.3 MB/s eta 0:00:01\r\u001b[K     |███████████████████████████▋    | 71 kB 8.6 MB/s eta 0:00:01\r\u001b[K     |███████████████████████████████▋| 81 kB 9.6 MB/s eta 0:00:01\r\u001b[K     |████████████████████████████████| 83 kB 1.3 MB/s \n",
            "\u001b[?25hRequirement already satisfied: Jinja2>=2.4 in /usr/local/lib/python3.7/dist-packages (from flask==0.12.2) (2.11.3)\n",
            "Requirement already satisfied: click>=2.0 in /usr/local/lib/python3.7/dist-packages (from flask==0.12.2) (7.1.2)\n",
            "Requirement already satisfied: itsdangerous>=0.21 in /usr/local/lib/python3.7/dist-packages (from flask==0.12.2) (1.1.0)\n",
            "Requirement already satisfied: Werkzeug>=0.7 in /usr/local/lib/python3.7/dist-packages (from flask==0.12.2) (1.0.1)\n",
            "Requirement already satisfied: MarkupSafe>=0.23 in /usr/local/lib/python3.7/dist-packages (from Jinja2>=2.4->flask==0.12.2) (2.0.1)\n",
            "Installing collected packages: flask\n",
            "  Attempting uninstall: flask\n",
            "    Found existing installation: Flask 1.1.4\n",
            "    Uninstalling Flask-1.1.4:\n",
            "      Successfully uninstalled Flask-1.1.4\n",
            "Successfully installed flask-0.12.2\n"
          ]
        }
      ]
    },
    {
      "cell_type": "code",
      "metadata": {
        "colab": {
          "base_uri": "https://localhost:8080/"
        },
        "id": "2mZZNqm6KB7d",
        "outputId": "d10e0c3e-9184-43f4-d6c0-cbc1b56db98d"
      },
      "source": [
        "!pip install flask-ngrok==0.0.25"
      ],
      "execution_count": 2,
      "outputs": [
        {
          "output_type": "stream",
          "name": "stdout",
          "text": [
            "Collecting flask-ngrok==0.0.25\n",
            "  Downloading flask_ngrok-0.0.25-py3-none-any.whl (3.1 kB)\n",
            "Requirement already satisfied: requests in /usr/local/lib/python3.7/dist-packages (from flask-ngrok==0.0.25) (2.23.0)\n",
            "Requirement already satisfied: Flask>=0.8 in /usr/local/lib/python3.7/dist-packages (from flask-ngrok==0.0.25) (0.12.2)\n",
            "Requirement already satisfied: Jinja2>=2.4 in /usr/local/lib/python3.7/dist-packages (from Flask>=0.8->flask-ngrok==0.0.25) (2.11.3)\n",
            "Requirement already satisfied: click>=2.0 in /usr/local/lib/python3.7/dist-packages (from Flask>=0.8->flask-ngrok==0.0.25) (7.1.2)\n",
            "Requirement already satisfied: Werkzeug>=0.7 in /usr/local/lib/python3.7/dist-packages (from Flask>=0.8->flask-ngrok==0.0.25) (1.0.1)\n",
            "Requirement already satisfied: itsdangerous>=0.21 in /usr/local/lib/python3.7/dist-packages (from Flask>=0.8->flask-ngrok==0.0.25) (1.1.0)\n",
            "Requirement already satisfied: MarkupSafe>=0.23 in /usr/local/lib/python3.7/dist-packages (from Jinja2>=2.4->Flask>=0.8->flask-ngrok==0.0.25) (2.0.1)\n",
            "Requirement already satisfied: urllib3!=1.25.0,!=1.25.1,<1.26,>=1.21.1 in /usr/local/lib/python3.7/dist-packages (from requests->flask-ngrok==0.0.25) (1.24.3)\n",
            "Requirement already satisfied: chardet<4,>=3.0.2 in /usr/local/lib/python3.7/dist-packages (from requests->flask-ngrok==0.0.25) (3.0.4)\n",
            "Requirement already satisfied: certifi>=2017.4.17 in /usr/local/lib/python3.7/dist-packages (from requests->flask-ngrok==0.0.25) (2021.10.8)\n",
            "Requirement already satisfied: idna<3,>=2.5 in /usr/local/lib/python3.7/dist-packages (from requests->flask-ngrok==0.0.25) (2.10)\n",
            "Installing collected packages: flask-ngrok\n",
            "Successfully installed flask-ngrok-0.0.25\n"
          ]
        }
      ]
    },
    {
      "cell_type": "markdown",
      "metadata": {
        "id": "YT9zNS_qcjPy"
      },
      "source": [
        "## Blockchain set up"
      ]
    },
    {
      "cell_type": "code",
      "metadata": {
        "id": "5SbVk_mX7Bnl"
      },
      "source": [
        "# Importación de las librerías\n",
        "import datetime\n",
        "import hashlib\n",
        "import json\n",
        "from flask       import Flask, jsonify\n",
        "from flask_ngrok import run_with_ngrok"
      ],
      "execution_count": 3,
      "outputs": []
    },
    {
      "cell_type": "markdown",
      "metadata": {
        "id": "ZkGBQ3P8DMn0"
      },
      "source": [
        "**Essential blockchain methods:**     \n",
        "* New block creation\n",
        "* Get new block hash\n",
        "* Consensus protocol: Proof of Work (PoW)\n",
        "* Block hash generation\n",
        "* Blockchain validity verification"
      ]
    },
    {
      "cell_type": "code",
      "metadata": {
        "id": "ZxJK0C5H7HvM"
      },
      "source": [
        "# Blockchain creation\n",
        "class Blockchain:\n",
        "    \n",
        "  def __init__(self):\n",
        "    \"\"\" Constructor for class Blockchain. \"\"\"\n",
        "\n",
        "    self.chain = []\n",
        "    self.create_block(proof = 1, previous_hash = '0')\n",
        "      \n",
        "  \n",
        "  def create_block(self, proof, previous_hash):\n",
        "    \"\"\" New block creation. \n",
        "\n",
        "      Arguments:\n",
        "        - proof: Nonce of current block. (proof != hash)\n",
        "        - previous_hash: Hash of previous block.\n",
        "\n",
        "      Returns: \n",
        "        - block: New block creation. \n",
        "      \"\"\"\n",
        "\n",
        "    block = { 'index'         : len(self.chain)+1,\n",
        "              'timestamp'     : str(datetime.datetime.now()),\n",
        "              'proof'         : proof,\n",
        "              'previous_hash' : previous_hash}\n",
        "    self.chain.append(block)\n",
        "    return block\n",
        "\n",
        "  def get_previous_block(self):\n",
        "    \"\"\" Blockchain's previous block .\n",
        "    \n",
        "      Returns:\n",
        "        - Last block. \"\"\"\n",
        "\n",
        "    return self.chain[-1]\n",
        "  \n",
        "  def proof_of_work(self, previous_proof):\n",
        "    \"\"\" Consensus protocol Proof of Work (PoW).\n",
        "    \n",
        "      Arguments:\n",
        "        - previous_proof: Nonce of previous block.\n",
        "\n",
        "      Returns:\n",
        "        - new_proof: Returns new nonce obtained with PoW. \"\"\"\n",
        "\n",
        "    new_proof = 1\n",
        "    check_proof = False\n",
        "    while check_proof is False:\n",
        "        hash_operation = hashlib.sha256(str(new_proof**2 - previous_proof**2).encode()).hexdigest()\n",
        "        if hash_operation[:4] == '0000':\n",
        "            check_proof = True\n",
        "        else: \n",
        "            new_proof += 1\n",
        "    return new_proof\n",
        "  \n",
        "  def hash(self, block):\n",
        "    \"\"\" Calculation of a block's hash.\n",
        "    \n",
        "    Arguments:\n",
        "        - block: Identifies a block in the Blockchain.\n",
        "    \n",
        "    Returns:\n",
        "        - hash_block: Returns block's hash \"\"\"\n",
        "\n",
        "    encoded_block = json.dumps(block, sort_keys = True).encode()\n",
        "    hash_block = hashlib.sha256(encoded_block).hexdigest()\n",
        "    return hash_block\n",
        "  \n",
        "  def is_chain_valid(self, chain):\n",
        "    \"\"\" Determines if the Blockchain is valid. \n",
        "    \n",
        "    Arguments:\n",
        "        - chain: Chain of blocks containing transactional information.\n",
        "    \n",
        "    Returns:\n",
        "        - True/False: Blockchain validity \"\"\"\n",
        "\n",
        "    previous_block = chain[0]\n",
        "    block_index = 1\n",
        "    while block_index < len(chain):\n",
        "        block = chain[block_index]\n",
        "        if block['previous_hash'] != self.hash(previous_block):\n",
        "            return False\n",
        "        previous_proof = previous_block['proof']\n",
        "        proof = block['proof']\n",
        "        hash_operation = hashlib.sha256(str(proof**2 - previous_proof**2).encode()).hexdigest()\n",
        "        if hash_operation[:4] != '0000':\n",
        "            return False\n",
        "        previous_block = block\n",
        "        block_index += 1\n",
        "    return True"
      ],
      "execution_count": 5,
      "outputs": []
    },
    {
      "cell_type": "markdown",
      "metadata": {
        "id": "rbwCOaUi-efe"
      },
      "source": [
        "Web app (REST API):\n",
        "\n",
        "REST API requests: \n",
        "* **mine_block()**\n",
        "* **get_chain()**\n",
        "* **is_valid()**"
      ]
    },
    {
      "cell_type": "code",
      "metadata": {
        "id": "ldcYRB3q7Nj7"
      },
      "source": [
        "# Web app creation\n",
        "# Running the app on Notebook\n",
        "app = Flask(__name__)\n",
        "run_with_ngrok(app)  \n",
        "\n",
        "# If the response is 500, update flask and run the next line\n",
        "app.config['JSONIFY_PRETTYPRINT_REGULAR'] = False\n",
        "\n",
        "# Blockchain creation\n",
        "blockchain = Blockchain()\n",
        "\n",
        "\n",
        "@app.route('/mine_block', methods=['GET'])\n",
        "def mine_block():\n",
        "  \"\"\" New block mining \"\"\"\n",
        "\n",
        "  previous_block  = blockchain.get_previous_block()\n",
        "  previous_proof  = previous_block['proof']\n",
        "  proof           = blockchain.proof_of_work(previous_proof)\n",
        "  previous_hash   = blockchain.hash(previous_block)\n",
        "  block           = blockchain.create_block(proof, previous_hash)\n",
        "  response = {'message'       : 'A new block has been mined!', \n",
        "              'index'         : block['index'],\n",
        "              'timestamp'     : block['timestamp'],\n",
        "              'proof'         : block['proof'],\n",
        "              'previous_hash' : block['previous_hash']}\n",
        "  return jsonify(response), 200\n",
        "\n",
        "@app.route('/get_chain', methods=['GET'])\n",
        "def get_chain():\n",
        "  \"\"\" Get blockchain data \"\"\"\n",
        "  response = {'chain'   : blockchain.chain, \n",
        "              'length'  : len(blockchain.chain)}\n",
        "  return jsonify(response), 200\n",
        "\n",
        "@app.route('/is_valid', methods = ['GET'])\n",
        "def is_valid():\n",
        "  \"\"\" Check if the blockchain is valid \"\"\"\n",
        "\n",
        "  is_valid = blockchain.is_chain_valid(blockchain.chain)\n",
        "  if is_valid:\n",
        "      response = {'message' : 'Blockchain is valid!'}\n",
        "  else:\n",
        "      response = {'message' : 'Blockchain NOT valid!'}\n",
        "  return jsonify(response), 200  "
      ],
      "execution_count": 6,
      "outputs": []
    },
    {
      "cell_type": "code",
      "metadata": {
        "id": "wGcC8nr5bOKa",
        "colab": {
          "base_uri": "https://localhost:8080/"
        },
        "outputId": "d7d2ad86-3aa4-4867-84db-5163c4d2517d"
      },
      "source": [
        "# To run the app on Google colab\n",
        "app.run()\n",
        "\n",
        "# To run the app outside Google colab\n",
        "# app.run(host = '0.0.0.0', port = 5000)"
      ],
      "execution_count": null,
      "outputs": [
        {
          "output_type": "stream",
          "name": "stderr",
          "text": [
            " * Running on http://127.0.0.1:5000/ (Press CTRL+C to quit)\n"
          ]
        },
        {
          "output_type": "stream",
          "name": "stdout",
          "text": [
            " * Running on http://3e11-34-125-199-38.ngrok.io\n",
            " * Traffic stats available on http://127.0.0.1:4040\n"
          ]
        },
        {
          "output_type": "stream",
          "name": "stderr",
          "text": [
            "127.0.0.1 - - [05/Feb/2022 21:04:53] \"\u001b[37mGET /get_chain HTTP/1.1\u001b[0m\" 200 -\n",
            "127.0.0.1 - - [05/Feb/2022 21:05:24] \"\u001b[37mGET /mine_block HTTP/1.1\u001b[0m\" 200 -\n",
            "127.0.0.1 - - [05/Feb/2022 21:05:43] \"\u001b[37mGET /get_chain HTTP/1.1\u001b[0m\" 200 -\n",
            "127.0.0.1 - - [05/Feb/2022 21:05:50] \"\u001b[37mGET /mine_block HTTP/1.1\u001b[0m\" 200 -\n",
            "127.0.0.1 - - [05/Feb/2022 21:05:54] \"\u001b[37mGET /get_chain HTTP/1.1\u001b[0m\" 200 -\n",
            "127.0.0.1 - - [05/Feb/2022 21:06:11] \"\u001b[37mGET /is_valid HTTP/1.1\u001b[0m\" 200 -\n",
            "127.0.0.1 - - [05/Feb/2022 21:07:06] \"\u001b[37mGET /mine_block HTTP/1.1\u001b[0m\" 200 -\n",
            "127.0.0.1 - - [05/Feb/2022 21:07:07] \"\u001b[37mGET /mine_block HTTP/1.1\u001b[0m\" 200 -\n",
            "127.0.0.1 - - [05/Feb/2022 21:07:08] \"\u001b[37mGET /mine_block HTTP/1.1\u001b[0m\" 200 -\n",
            "127.0.0.1 - - [05/Feb/2022 21:07:09] \"\u001b[37mGET /mine_block HTTP/1.1\u001b[0m\" 200 -\n",
            "127.0.0.1 - - [05/Feb/2022 21:07:10] \"\u001b[37mGET /mine_block HTTP/1.1\u001b[0m\" 200 -\n",
            "127.0.0.1 - - [05/Feb/2022 21:07:23] \"\u001b[37mGET /get_chain HTTP/1.1\u001b[0m\" 200 -\n",
            "127.0.0.1 - - [05/Feb/2022 21:08:44] \"\u001b[37mGET /mine_block HTTP/1.1\u001b[0m\" 200 -\n",
            "127.0.0.1 - - [05/Feb/2022 21:08:45] \"\u001b[37mGET /mine_block HTTP/1.1\u001b[0m\" 200 -\n",
            "127.0.0.1 - - [05/Feb/2022 21:08:46] \"\u001b[37mGET /mine_block HTTP/1.1\u001b[0m\" 200 -\n",
            "127.0.0.1 - - [05/Feb/2022 21:08:47] \"\u001b[37mGET /mine_block HTTP/1.1\u001b[0m\" 200 -\n",
            "127.0.0.1 - - [05/Feb/2022 21:08:48] \"\u001b[37mGET /mine_block HTTP/1.1\u001b[0m\" 200 -\n",
            "127.0.0.1 - - [05/Feb/2022 21:08:49] \"\u001b[37mGET /mine_block HTTP/1.1\u001b[0m\" 200 -\n",
            "127.0.0.1 - - [05/Feb/2022 21:08:51] \"\u001b[37mGET /mine_block HTTP/1.1\u001b[0m\" 200 -\n",
            "127.0.0.1 - - [05/Feb/2022 21:08:54] \"\u001b[37mGET /get_chain HTTP/1.1\u001b[0m\" 200 -\n",
            "127.0.0.1 - - [05/Feb/2022 21:09:08] \"\u001b[37mGET /is_valid HTTP/1.1\u001b[0m\" 200 -\n"
          ]
        }
      ]
    }
  ]
}